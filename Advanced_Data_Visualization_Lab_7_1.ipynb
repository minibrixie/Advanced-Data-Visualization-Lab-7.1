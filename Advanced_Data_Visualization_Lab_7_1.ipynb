{
  "nbformat": 4,
  "nbformat_minor": 0,
  "metadata": {
    "colab": {
      "provenance": [],
      "authorship_tag": "ABX9TyMAHdOLgMut5ctzjyTXfFcR",
      "include_colab_link": true
    },
    "kernelspec": {
      "name": "python3",
      "display_name": "Python 3"
    },
    "language_info": {
      "name": "python"
    }
  },
  "cells": [
    {
      "cell_type": "markdown",
      "metadata": {
        "id": "view-in-github",
        "colab_type": "text"
      },
      "source": [
        "<a href=\"https://colab.research.google.com/github/minibrixie/Advanced-Data-Visualization-Lab-7.1/blob/main/Advanced_Data_Visualization_Lab_7_1.ipynb\" target=\"_parent\"><img src=\"https://colab.research.google.com/assets/colab-badge.svg\" alt=\"Open In Colab\"/></a>"
      ]
    },
    {
      "cell_type": "code",
      "execution_count": 2,
      "metadata": {
        "colab": {
          "base_uri": "https://localhost:8080/"
        },
        "id": "cMJeikN_psk2",
        "outputId": "934697a2-ebc6-4484-d51d-c4d516b31981"
      },
      "outputs": [
        {
          "output_type": "stream",
          "name": "stdout",
          "text": [
            "What is the temperature outside?:25\n",
            "the temperatureis good today\n",
            "can go outside\n"
          ]
        }
      ],
      "source": [
        "temp = int(input(\"What is the temperature outside?:\"))\n",
        "\n",
        "if temp >=0 and temp <=30:\n",
        "  print(\"the temperatureis good today\")\n",
        "  print(\"can go outside\")"
      ]
    }
  ]
}